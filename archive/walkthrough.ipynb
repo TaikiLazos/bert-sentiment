{
 "cells": [
  {
   "cell_type": "code",
   "execution_count": 3,
   "metadata": {},
   "outputs": [],
   "source": [
    "# import src.train\n",
    "# import src.evaluate\n",
    "# import src.dataset\n",
    "\n",
    "import json\n",
    "import csv\n",
    "import os\n",
    "import glob\n",
    "from tqdm import tqdm\n"
   ]
  },
  {
   "cell_type": "code",
   "execution_count": 4,
   "metadata": {},
   "outputs": [],
   "source": [
    "# We need to import the dataset\n",
    "# Make a data folder and put json folder from here: https://github.com/ramybaly/Article-Bias-Prediction/tree/main/data/jsons\n",
    "\n",
    "# First we need to make a csv file from the json files => raw_data.csv\n",
    "def convert_jsons_to_csv():\n",
    "    # Fields we want to extract\n",
    "    fields = ['topic', 'source', 'url', 'title', 'date', 'authors', 'content', 'source_url', 'bias_text', 'bias']\n",
    "    \n",
    "    # Get all JSON files in the data/jsons directory\n",
    "    json_files = glob.glob('data/jsons/*.json')\n",
    "    \n",
    "    # Create/open CSV file to write\n",
    "    with open('data/raw_data.csv', 'w', newline='', encoding='utf-8') as csvfile:\n",
    "        writer = csv.DictWriter(csvfile, fieldnames=fields)\n",
    "        \n",
    "        # Write header\n",
    "        writer.writeheader()\n",
    "        \n",
    "        # Process each JSON file\n",
    "        for json_file in tqdm(json_files, desc=\"Converting JSON files to CSV\"):\n",
    "            with open(json_file, 'r', encoding='utf-8') as f:\n",
    "                data = json.load(f)\n",
    "                \n",
    "            # Create a new dict with only the fields we want\n",
    "            row = {field: data.get(field, '') for field in fields}\n",
    "            \n",
    "            # Write the row\n",
    "            writer.writerow(row)"
   ]
  },
  {
   "cell_type": "code",
   "execution_count": 5,
   "metadata": {},
   "outputs": [
    {
     "name": "stderr",
     "output_type": "stream",
     "text": [
      "Converting JSON files to CSV: 100%|██████████| 37554/37554 [00:11<00:00, 3316.82it/s]\n"
     ]
    }
   ],
   "source": [
    "# Took 10 seconds for me\n",
    "convert_jsons_to_csv()"
   ]
  },
  {
   "cell_type": "code",
   "execution_count": 14,
   "metadata": {},
   "outputs": [
    {
     "data": {
      "text/html": [
       "<div>\n",
       "<style scoped>\n",
       "    .dataframe tbody tr th:only-of-type {\n",
       "        vertical-align: middle;\n",
       "    }\n",
       "\n",
       "    .dataframe tbody tr th {\n",
       "        vertical-align: top;\n",
       "    }\n",
       "\n",
       "    .dataframe thead th {\n",
       "        text-align: right;\n",
       "    }\n",
       "</style>\n",
       "<table border=\"1\" class=\"dataframe\">\n",
       "  <thead>\n",
       "    <tr style=\"text-align: right;\">\n",
       "      <th></th>\n",
       "      <th>topic</th>\n",
       "      <th>source</th>\n",
       "      <th>url</th>\n",
       "      <th>title</th>\n",
       "      <th>date</th>\n",
       "      <th>authors</th>\n",
       "      <th>content</th>\n",
       "      <th>source_url</th>\n",
       "      <th>bias_text</th>\n",
       "      <th>bias</th>\n",
       "    </tr>\n",
       "  </thead>\n",
       "  <tbody>\n",
       "    <tr>\n",
       "      <th>0</th>\n",
       "      <td>terrorism</td>\n",
       "      <td>New York Times - News</td>\n",
       "      <td>http://www.nytimes.com/2016/09/20/nyregion/ahm...</td>\n",
       "      <td>Bomb Suspect Changed After Trip Abroad, Friend...</td>\n",
       "      <td>2016-09-20</td>\n",
       "      <td>N. R. Kleinfield</td>\n",
       "      <td>Besides his most recent trip to Quetta , Mr. R...</td>\n",
       "      <td>www.nytimes.com</td>\n",
       "      <td>left</td>\n",
       "      <td>0</td>\n",
       "    </tr>\n",
       "    <tr>\n",
       "      <th>1</th>\n",
       "      <td>supreme_court</td>\n",
       "      <td>Vox</td>\n",
       "      <td>https://www.vox.com/policy-and-politics/2018/9...</td>\n",
       "      <td>Why Susan Collins claims she’s being bribed ov...</td>\n",
       "      <td>2018-09-12</td>\n",
       "      <td>Emily Stewart, Terry Nguyen, Rebecca Jennings,...</td>\n",
       "      <td>Is Maine Republican Sen. Susan Collins being b...</td>\n",
       "      <td>www.vox.com</td>\n",
       "      <td>left</td>\n",
       "      <td>0</td>\n",
       "    </tr>\n",
       "    <tr>\n",
       "      <th>2</th>\n",
       "      <td>education</td>\n",
       "      <td>Ezra Klein</td>\n",
       "      <td>http://www.npr.org/blogs/thetwo-way/2014/05/06...</td>\n",
       "      <td>Poll: Prestigious Colleges Won't Make You Happ...</td>\n",
       "      <td>2014-05-06</td>\n",
       "      <td>Anya Kamenetz</td>\n",
       "      <td>Poll : Prestigious Colleges Wo n't Make You Ha...</td>\n",
       "      <td>www.npr.org</td>\n",
       "      <td>left</td>\n",
       "      <td>0</td>\n",
       "    </tr>\n",
       "    <tr>\n",
       "      <th>3</th>\n",
       "      <td>us_house</td>\n",
       "      <td>Breitbart News</td>\n",
       "      <td>http://www.breitbart.com/big-government/2017/0...</td>\n",
       "      <td>Paul Ryan Reportedly Says No Chance for Border...</td>\n",
       "      <td>2017-09-12</td>\n",
       "      <td>Ian Mason</td>\n",
       "      <td>House Speaker Paul Ryan , at a private dinner ...</td>\n",
       "      <td>www.breitbart.com</td>\n",
       "      <td>right</td>\n",
       "      <td>2</td>\n",
       "    </tr>\n",
       "    <tr>\n",
       "      <th>4</th>\n",
       "      <td>white_house</td>\n",
       "      <td>Guest Writer - Left</td>\n",
       "      <td>https://www.cnn.com/2019/07/11/politics/donald...</td>\n",
       "      <td>OPINION: Trump seeking change of legal fortune...</td>\n",
       "      <td>2019-07-11</td>\n",
       "      <td>Analysis Stephen Collinson</td>\n",
       "      <td>( CNN ) President Donald Trump has reason to h...</td>\n",
       "      <td>www.cnn.com</td>\n",
       "      <td>left</td>\n",
       "      <td>0</td>\n",
       "    </tr>\n",
       "  </tbody>\n",
       "</table>\n",
       "</div>"
      ],
      "text/plain": [
       "           topic                 source  \\\n",
       "0      terrorism  New York Times - News   \n",
       "1  supreme_court                    Vox   \n",
       "2      education             Ezra Klein   \n",
       "3       us_house         Breitbart News   \n",
       "4    white_house    Guest Writer - Left   \n",
       "\n",
       "                                                 url  \\\n",
       "0  http://www.nytimes.com/2016/09/20/nyregion/ahm...   \n",
       "1  https://www.vox.com/policy-and-politics/2018/9...   \n",
       "2  http://www.npr.org/blogs/thetwo-way/2014/05/06...   \n",
       "3  http://www.breitbart.com/big-government/2017/0...   \n",
       "4  https://www.cnn.com/2019/07/11/politics/donald...   \n",
       "\n",
       "                                               title        date  \\\n",
       "0  Bomb Suspect Changed After Trip Abroad, Friend...  2016-09-20   \n",
       "1  Why Susan Collins claims she’s being bribed ov...  2018-09-12   \n",
       "2  Poll: Prestigious Colleges Won't Make You Happ...  2014-05-06   \n",
       "3  Paul Ryan Reportedly Says No Chance for Border...  2017-09-12   \n",
       "4  OPINION: Trump seeking change of legal fortune...  2019-07-11   \n",
       "\n",
       "                                             authors  \\\n",
       "0                                   N. R. Kleinfield   \n",
       "1  Emily Stewart, Terry Nguyen, Rebecca Jennings,...   \n",
       "2                                      Anya Kamenetz   \n",
       "3                                          Ian Mason   \n",
       "4                         Analysis Stephen Collinson   \n",
       "\n",
       "                                             content         source_url  \\\n",
       "0  Besides his most recent trip to Quetta , Mr. R...    www.nytimes.com   \n",
       "1  Is Maine Republican Sen. Susan Collins being b...        www.vox.com   \n",
       "2  Poll : Prestigious Colleges Wo n't Make You Ha...        www.npr.org   \n",
       "3  House Speaker Paul Ryan , at a private dinner ...  www.breitbart.com   \n",
       "4  ( CNN ) President Donald Trump has reason to h...        www.cnn.com   \n",
       "\n",
       "  bias_text  bias  \n",
       "0      left     0  \n",
       "1      left     0  \n",
       "2      left     0  \n",
       "3     right     2  \n",
       "4      left     0  "
      ]
     },
     "execution_count": 14,
     "metadata": {},
     "output_type": "execute_result"
    }
   ],
   "source": [
    "# Okay let's load the data into a pandas dataframe to see what we have\n",
    "import pandas as pd\n",
    "\n",
    "df = pd.read_csv('data/raw_data.csv')\n",
    "\n",
    "df.head()\n"
   ]
  },
  {
   "cell_type": "code",
   "execution_count": 15,
   "metadata": {},
   "outputs": [
    {
     "data": {
      "text/plain": [
       "content      0\n",
       "bias_text    0\n",
       "bias         0\n",
       "dtype: int64"
      ]
     },
     "execution_count": 15,
     "metadata": {},
     "output_type": "execute_result"
    }
   ],
   "source": [
    "# We only need content and bias_text\n",
    "df = df[['content', 'bias_text', 'bias']]\n",
    "\n",
    "# Let's see if we have any null values\n",
    "df.isnull().sum()\n"
   ]
  },
  {
   "cell_type": "code",
   "execution_count": 16,
   "metadata": {},
   "outputs": [],
   "source": [
    "# We will make a smaller dataset for testing\n",
    "df = df.sample(n=1000, random_state=42)\n",
    "\n",
    "# Let's save this smaller dataset\n",
    "df.to_csv('data/small_data.csv', index=False)\n",
    "\n",
    "\n"
   ]
  },
  {
   "cell_type": "code",
   "execution_count": null,
   "metadata": {},
   "outputs": [],
   "source": [
    "# We will apply preprocessing steps to the content column (e.g remove stopwords, lemmatize, etc.)\n",
    "\n",
    "\n",
    "# WIP might not be needed"
   ]
  },
  {
   "cell_type": "code",
   "execution_count": null,
   "metadata": {},
   "outputs": [],
   "source": [
    "# If you do not have a GPU download a model from me.\n",
    "\n",
    "# If you have a okish GPU then open your terminal and run the following command\n",
    "\n",
    "python src/main.py --mode train --data_path data/small_data.csv --batch_size 10 --learning_rate 2e-5 --epochs 10\n",
    "\n",
    "# Then for inference you can run\n",
    "python src/main.py --mode eval --model_path .\\outputs\\<your latest folder for the model>\\best_model.pt"
   ]
  },
  {
   "cell_type": "code",
   "execution_count": null,
   "metadata": {},
   "outputs": [],
   "source": []
  }
 ],
 "metadata": {
  "kernelspec": {
   "display_name": "base",
   "language": "python",
   "name": "python3"
  },
  "language_info": {
   "codemirror_mode": {
    "name": "ipython",
    "version": 3
   },
   "file_extension": ".py",
   "mimetype": "text/x-python",
   "name": "python",
   "nbconvert_exporter": "python",
   "pygments_lexer": "ipython3",
   "version": "3.11.9"
  }
 },
 "nbformat": 4,
 "nbformat_minor": 2
}
